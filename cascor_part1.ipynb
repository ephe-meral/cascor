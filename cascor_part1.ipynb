{
 "cells": [
  {
   "cell_type": "markdown",
   "metadata": {},
   "source": [
    "# Cascade-Correlation,  a Forgotten Learning Architecture\n",
    "\n",
    "#### How the first 'deep learning' approach outperformed classical neural networks in 1990.\n",
    "\n",
    "In 1990, a dynamic neural network architecture by Scott E. Fahlman and Christian Lebiere called \"Cascade-Correlation\" [1] outperformed static neural networks in training speed, accuracy, and size. In a [recent lecture](https://www.youtube.com/watch?v=k2mPEUZH978), Fahlman actually called it the first approach to use something like 'deep' learning.\n",
    "With this algorithm, they successfully competed on the 'two spirals' categorization task and artificial grammar learning problems.\n",
    "\n",
    "And yet their work was largely forgotten or treated as a side note of history.\n",
    "Even though the idea itself is quite close in spirit to what we, by now, refer to as the ['boosting'](https://en.wikipedia.org/wiki/Boosting_(machine_learning)) family of machine learning algorithms - techniques that perform [better than deep learning](https://www.youtube.com/watch?v=9GCEVv94udY) on certain sets of problems. These - just like Cascade-Correlation - are based on the idea of iteratively improving a classifier by stacking specialized learners, trained one at a time.\n",
    "\n",
    "More than enough reason to understand and implement Fahlman's approach - and put it to the test on various domains and challenges! Let's investigate if, where, and how it can still compete with modern machine learning tools.\n",
    "\n",
    "---\n",
    "\n",
    "_This article is part one of a series with a focus on (Recurrent) Cascade-Correlation._\n",
    "\n",
    "_In this first part, we'll look in detail on how a simple, forward-only Cascade-Correlation (or CasCor for short) network can be implemented using Python and PyTorch. We'll also see some results of applying it to a simplistic problem domain._\n",
    "\n",
    "_In the next parts, we'll investigate how to automate and optimize the algorithm using batching. We'll also implement and train a recurrent version of it and benchmark CasCor against existing solutions._\n",
    "\n",
    "_To follow along with this article, you should be familiar with how neural networks can be trained using back-propagation of the loss gradient (as of 2020, a widely used approach). That is, you should understand how the gradient is usually calculated and applied to the parameters of a network to try to iteratively achieve convergence of the loss to a global minimum._\n",
    "\n",
    "---"
   ]
  },
  {
   "cell_type": "markdown",
   "metadata": {},
   "source": [
    "## Part 1: Cascade Correlation\n",
    "\n",
    "Without further ado, let's implement a simplistic version of CasCor! Since we are working with Python, we need to import some basics and PyTorch:"
   ]
  },
  {
   "cell_type": "code",
   "execution_count": 1,
   "metadata": {},
   "outputs": [],
   "source": [
    "import numpy as np\n",
    "from numpy.random import Generator, PCG64\n",
    "import matplotlib.pyplot as plt\n",
    "import torch\n",
    "\n",
    "rnd = Generator(PCG64(12345))\n",
    "# To be used like: numpy.random, e.g. rnd.random(2, 3) produces a random (2,3) array\n",
    "# We'll use this to generate initial weights for our neurons"
   ]
  },
  {
   "cell_type": "markdown",
   "metadata": {},
   "source": [
    "### Overview\n",
    "\n",
    "The CasCor algorithm starts off with a one-layer network (only output neurons). It then follows these steps:\n",
    "\n",
    "1. Train (only!) the output neurons until reaching a plateau\n",
    "2. If the residual error is good enough, stop;\n",
    "3. Otherwise, freeze all weights of the existing network\n",
    "4. Then train a new hidden neuron, by optimizing the correlation between its output and the last measured residual error (see below)\n",
    "5. Go back to step 1 - rinse & repeat\n",
    "\n",
    "Step 4. is the most important and most complicated part of CasCor, illustrated also in the figure below. \n",
    "Until the training has finished, the hidden neuron is disconnected from the network.\n",
    "We statically feed all the original inputs and the values of earlier layers as a weighted sum to its activation function.\n",
    "Then the training algorithm optimizes the neuron's weights to achieve the best possible correlation of its output value with the sample set residual error, measured in an earlier iteration.\n",
    "\n",
    "To train for optimum correlation, we will need to use the correlation measure instead of some standard loss function, but more on that later.\n",
    "\n",
    "After the training finished, we can add the hidden neuron to the network. The output neurons will now receive its value as an additional input, and we need to train their new weights, so we jump back to step 1.\n",
    "\n",
    "Fahlman's paper illustrates the process of adding a hidden neuron, like this:\n",
    "\n",
    "![CasCor network with new hidden node](img/cascor_layer_add.png)\n",
    "\n",
    "#### When adding a new hidden neuron, only the new weights (red squares) are iterated. Here, the arrows are weighted sums fed into the circle depicting the activation function. (Graphic translated and adapted from [Wikipedia](https://de.wikipedia.org/wiki/Datei:Cascar.png))\n",
    "\n",
    "In this article, we focus on the two major parts of CasCor: Steps 1. and 4., i.e. training the outputs and training a hidden neuron. The rest we'll simply do manually."
   ]
  },
  {
   "cell_type": "markdown",
   "metadata": {},
   "source": [
    "### Test Set\n",
    "\n",
    "For simplicity, we use a 2D categorization task for testing (It's easier to debug). Our network will thus have 2 input dimensions (the coordinates of the grid) and 1 output dimension (a value between 0 and 1).\n",
    "\n",
    "We'll train on the following data sets (without test sets for now), where 0 values are black and 1 values are white:"
   ]
  },
  {
   "cell_type": "code",
   "execution_count": 2,
   "metadata": {},
   "outputs": [
    {
     "data": {
      "image/png": "[encoded data removed]",
      "text/plain": [
       "<Figure size 432x288 with 1 Axes>"
      ]
     },
     "metadata": {
      "needs_background": "light"
     },
     "output_type": "display_data"
    }
   ],
   "source": [
    "target1 = np.concatenate((np.zeros((20,40)), np.ones((20,40))), axis=0)\n",
    "                         \n",
    "plt.imshow(target1, cmap='hot', interpolation='nearest')\n",
    "plt.show()"
   ]
  },
  {
   "cell_type": "code",
   "execution_count": 3,
   "metadata": {},
   "outputs": [
    {
     "data": {
      "image/png": "[encoded data removed]",
      "text/plain": [
       "<Figure size 432x288 with 1 Axes>"
      ]
     },
     "metadata": {
      "needs_background": "light"
     },
     "output_type": "display_data"
    }
   ],
   "source": [
    "target2 = np.concatenate(\n",
    "    (np.concatenate((np.zeros((20,20)), np.ones((20,20))), axis=1),\n",
    "     np.ones((20,40))), axis=0)\n",
    "                         \n",
    "plt.imshow(target2, cmap='hot', interpolation='nearest')\n",
    "plt.show()"
   ]
  },
  {
   "cell_type": "markdown",
   "metadata": {},
   "source": [
    "To actually feed the input and output into our training function, we also need to convert these to a 'long' form and add a static bias value of 1.\n",
    "\n",
    "Plus, testing showed that CasCor and quickprop perform better when the inputs are normalized, so let's do that as well:"
   ]
  },
  {
   "cell_type": "code",
   "execution_count": 4,
   "metadata": {},
   "outputs": [],
   "source": [
    "def create_trainset(target):\n",
    "    idxs = np.asarray(list(np.ndindex(target.shape)))\n",
    "    # Normalize inputs\n",
    "    idxs = idxs / np.linalg.norm(idxs, axis=0)\n",
    "    # Add bias vector:\n",
    "    x = np.ones((idxs.shape[0], idxs.shape[1]+1))\n",
    "    x[:,:-1] = idxs\n",
    "\n",
    "    y = target.reshape((-1, 1))\n",
    "    \n",
    "    return x, y"
   ]
  },
  {
   "cell_type": "markdown",
   "metadata": {},
   "source": [
    "### Quickprop\n",
    "\n",
    "To train the units in the CasCor network, they use a technique that was also invented by Fahlman in 1988 [2] called quickprop.\n",
    "\n",
    "Quickprop is an alternative to back-propagation that uses a variation of [Newton's method](https://en.wikipedia.org/wiki/Newton%27s_method). For more info on this aside from the original paper, [this useful blog post](https://www.bonaccorso.eu/2017/09/15/quickprop-an-almost-forgotten-neural-training-algorithm/) by Giuseppe Bonaccorso also describes it quite well.\n",
    "\n",
    "_Note that quickprop is not strictly necessary to implement CasCor. However, to stick close to the original paper and for maximized learning, we'll use it here as well. It is actually an interesting topic all on its own, and I encourage you to investigate it!_\n",
    "\n",
    "_If you couldn't care less about quickprop, skip ahead to the next section and treat any further mention of it simply as 'training neuron weights based on given input & expected output pairs'._\n",
    "\n",
    "Our implementation is based on the blog post - but since we don't want to focus on quickprop in this article, we'll just peek at some adjustments to their code instead of diving into the maths.\n",
    "\n",
    "**Flexibility.** The code from the post uses a fixed activation and loss function and statically implements their gradient. For CasCor, we need to be a bit more flexible (at least when it comes to the loss) so we pass these functions as parameters.\n",
    "\n",
    "**Automatic Gradient Computation.** Since the activation and loss function are now variable, we'll run into trouble when trying to build their gradient. But, using PyTorch, we can easily skip over that and let the `autograd` do the heavy lifting.\n",
    "\n",
    "**Convergence.** Giuseppe's code tests the change in weights per iteration to determine convergence. Some quick tests found that to be troublesome since it often seems to get stuck on saddle points and local minima. So instead of that, we'll use the residual error.\n",
    "\n",
    "Specifically, we'll calculate a running mean of the residual error, and check if the difference in mean per iteration is smaller than a given `tolerance`.\n",
    "\n",
    "Last but not least, if the error diverges or converges too slowly, quickprop simply gives up after a certain amount of iterations (it runs out of `patience`, see the function parameter)."
   ]
  },
  {
   "cell_type": "code",
   "execution_count": 5,
   "metadata": {},
   "outputs": [],
   "source": [
    "# Param shapes: x_: (n,i), y_: (n,o), weights: (i,o)\n",
    "#   Where n is the size of the whole sample set, i is the input count, o is the output count\n",
    "#   We expect x_ to already include the bias\n",
    "# Returns: trained weights, last prediction, last iteration, last loss\n",
    "# NB: Differentiation is done via torch\n",
    "def quickprop(x_, y_, weights,\n",
    "              activation=torch.nn.Sigmoid(),\n",
    "              loss=torch.nn.MSELoss(),\n",
    "              learning_rate=1e-4,\n",
    "              tolerance=1e-6,\n",
    "              patience=20000,\n",
    "              debug=False):\n",
    "    # Box params as torch datatypes\n",
    "    x = torch.Tensor(x_)\n",
    "    y = torch.Tensor(y_)\n",
    "    w = torch.Tensor(weights)\n",
    "\n",
    "    # Keep track of mean residual error values (used to test for convergence)\n",
    "    L_mean = 1\n",
    "    L_mean_prev = 1\n",
    "    L_mean_diff = 1\n",
    "    \n",
    "    # Keep track of loss and weight gradients\n",
    "    dL = torch.zeros(w.shape)\n",
    "    dL_prev = torch.ones(w.shape)\n",
    "    dw_prev = torch.ones(w.shape)\n",
    "\n",
    "    i = 0\n",
    "    predicted = []\n",
    "\n",
    "    # This algorithm expects the mean losses to converge or the patience to run out...\n",
    "    while L_mean_diff > tolerance and i < patience:\n",
    "        # Prep iteration\n",
    "        i += 1\n",
    "        dL_prev = dL.clone()\n",
    "        # NB: The following can probably done better with torch.no_grad(), but I couldn't make it work\n",
    "        w_var = torch.autograd.Variable(torch.Tensor(w), requires_grad=True)\n",
    "        \n",
    "        # Calc forward and loss\n",
    "        predicted = activation(torch.mm(x, w_var))\n",
    "        L = loss(predicted, y)\n",
    "        \n",
    "        # Keep track of losses and use as convergence criterion if mean doesn't change much     \n",
    "        L_mean = L_mean + (1/(i+1))*(L.detach().numpy() - L_mean)\n",
    "        L_mean_diff = np.abs(L_mean_prev - L_mean)\n",
    "        L_mean_prev = L_mean\n",
    "        \n",
    "        # Calc differential and do the weight update\n",
    "        L.backward()\n",
    "        \n",
    "        dL = w_var.grad.detach() # =: partial(L) / partial(W)\n",
    "        dw = dw_prev * dL / (dL_prev - dL + 1e-10) # Prevent div/0\n",
    "        \n",
    "        dw_prev = dw.clone()\n",
    "        \n",
    "        w += learning_rate * dw\n",
    "        \n",
    "        if debug and i % 100 == 99:\n",
    "            print(\"Residual           \", L.detach().numpy())\n",
    "            print(\"Residual mean      \", L_mean)\n",
    "            print(\"Residual mean diff \", L_mean_diff)\n",
    "        \n",
    "    return w.detach().numpy(), predicted.detach().numpy(), i, L.detach().numpy()"
   ]
  },
  {
   "cell_type": "markdown",
   "metadata": {},
   "source": [
    "### Output Training\n",
    "\n",
    "With quickprop implemented, let's get to the fun part!\n",
    "\n",
    "CasCor starts with a one layer network, i.e. we will be using a single output neuron and connect that to our input (and bias).\n",
    "\n",
    "To start training this neuron, we take sets of input (`x`) and output (`y`) samples and create newly initialized (random) weights, all of which we feed into quickprop.\n",
    "\n",
    "_Note that this approach does not care whether the network is single-layer or deeper - since we are_ only _training the output weights, we could also have run the inputs through a number of hidden layers and use that as the `x` for the training._"
   ]
  },
  {
   "cell_type": "code",
   "execution_count": 6,
   "metadata": {},
   "outputs": [],
   "source": [
    "# The vector x is the values from the earlier hidden/input layers per each sample\n",
    "# Parameter shapes: x - (n,i), y - (n,o)\n",
    "#   Where n is the size of the whole sample set, i is the input count, o is the output count\n",
    "#   We expect x_ to already include the bias\n",
    "def train_outputs(x, y):\n",
    "    # Next we need to create a weight vector with the right shape\n",
    "    n, i = x.shape\n",
    "    n, o = y.shape\n",
    "    \n",
    "    weights = rnd.uniform(-0.01, 0.01, size=(i, o))\n",
    "    \n",
    "    # And run through the training\n",
    "    weights, predicted, i, loss = quickprop(x, y, weights)\n",
    "    \n",
    "    return weights, predicted"
   ]
  },
  {
   "cell_type": "markdown",
   "metadata": {},
   "source": [
    "Let's test this with the training sets:"
   ]
  },
  {
   "cell_type": "code",
   "execution_count": 15,
   "metadata": {},
   "outputs": [
    {
     "data": {
      "image/png": "[encoded data removed]",
      "text/plain": [
       "<Figure size 432x288 with 1 Axes>"
      ]
     },
     "metadata": {
      "needs_background": "light"
     },
     "output_type": "display_data"
    }
   ],
   "source": [
    "x, y = create_trainset(target1)\n",
    "w, pred = train_outputs(x, y)\n",
    "\n",
    "plt.imshow(pred.reshape(target1.shape), cmap='hot', interpolation='nearest')\n",
    "plt.show()"
   ]
  },
  {
   "cell_type": "markdown",
   "metadata": {},
   "source": [
    "Looks good for the simple one!"
   ]
  },
  {
   "cell_type": "code",
   "execution_count": 16,
   "metadata": {},
   "outputs": [
    {
     "data": {
      "image/png": "[encoded data removed]",
      "text/plain": [
       "<Figure size 432x288 with 1 Axes>"
      ]
     },
     "metadata": {
      "needs_background": "light"
     },
     "output_type": "display_data"
    }
   ],
   "source": [
    "x, y = create_trainset(target2)\n",
    "w, pred = train_outputs(x, y)\n",
    "\n",
    "plt.imshow(pred.reshape(target1.shape), cmap='hot', interpolation='nearest')\n",
    "plt.show()"
   ]
  },
  {
   "cell_type": "markdown",
   "metadata": {},
   "source": [
    "Unsurprisingly, this doesn't match up so well. But it is a good enough approximation for now."
   ]
  },
  {
   "cell_type": "markdown",
   "metadata": {},
   "source": [
    "### Hidden Neuron Training\n",
    "\n",
    "As we have seen, our simple one-neuron model approximates the second shape with quite a bit of error.\n",
    "To achieve a better fit, we'll need to add hidden layer(s).\n",
    "\n",
    "When we add a hidden neuron, we:\n",
    "\n",
    "1. Freeze all other parameters (including output)\n",
    "2. Run the training sample forward through the net and use the input values and other hidden unit values as the input of the new unit\n",
    "3. Train the new neuron such that its value best correlates with the residual errors calculated in an earlier run\n",
    "\n",
    "The covariance function S (we'll use it instead of correlation; more details on that in [1]) is given by:\n",
    "\n",
    "$$\n",
    "\\begin{align}\n",
    "V_p &= \\phi \\ (I_p \\cdot W) \\\\\n",
    "S &= \\sum_{o} \\left| \\sum_{p} (V_p - \\bar{V}) (E_{o,p} - \\bar{E_o}) \\right| \\\\\n",
    "\\end{align} \n",
    "$$\n",
    "\n",
    "Where phi is the activation function of the neuron, V is the value of it, and E is the residual error (the earlier prediction minus the actual target). The bar-terms are the means and o and p are indices of output values and samples respectively.\n",
    "\n",
    "With this as our 'loss' function, we can simply run quickprop again.\n",
    "\n",
    "_Note that in hindsight, using quickprop here was a bit dangerous, since it uses an approximation of the second-order derivative under the hood. This fails to be a good solution, since the first-order derivative of $S$ is not continuous due to the magnitude calculation. In the CasCor paper, Fahlman et al. actually use gradient ascent for training the neuron._"
   ]
  },
  {
   "cell_type": "code",
   "execution_count": 71,
   "metadata": {},
   "outputs": [],
   "source": [
    "def train_hidden(x, y, predicted, debug=False):\n",
    "    # Figure out how many weights we need\n",
    "    n, i = x.shape\n",
    "    \n",
    "    # And initialize a weights matrix\n",
    "    weights = torch.Tensor(rnd.uniform(-0.01, 0.01, size=(i, 1)))\n",
    "    \n",
    "    # Calculate the residuals for correlation\n",
    "    err = torch.Tensor(y - predicted)\n",
    "    err_mean = torch.mean(err, axis=0)\n",
    "    err_corr = (err - err_mean)\n",
    "    \n",
    "    if debug:\n",
    "        plt.imshow(err_corr.reshape(target1.shape), cmap='hot', interpolation='nearest')\n",
    "        plt.show()\n",
    "    \n",
    "    # Create a custom loss function (S)\n",
    "    def covariance(pred, target):\n",
    "        pred_mean = torch.mean(pred, axis=0)\n",
    "        # We want to try to maximize the absolute covariance, but quickprop will minimize its loss function\n",
    "        # Therefore, we need to multiply by (-1) to guide the optimizer correctly\n",
    "        loss = -torch.sum(torch.abs(torch.sum((pred - pred_mean)*(target), axis=0)), axis=0)\n",
    "        return loss\n",
    "        \n",
    "    # Use quickprop to generate the weights based on the special loss function\n",
    "    # We also need to pass in the residual errors as a target\n",
    "    weights, predicted, i, loss = quickprop(x, err_corr, weights, loss=covariance)\n",
    "    \n",
    "    return weights, predicted"
   ]
  },
  {
   "cell_type": "markdown",
   "metadata": {},
   "source": [
    "Let's run this with the one-layer net predictions (`pred`) of the last sample set!"
   ]
  },
  {
   "cell_type": "code",
   "execution_count": 97,
   "metadata": {},
   "outputs": [
    {
     "data": {
      "image/png": "[encoded data removed]",
      "text/plain": [
       "<Figure size 432x288 with 1 Axes>"
      ]
     },
     "metadata": {
      "needs_background": "light"
     },
     "output_type": "display_data"
    },
    {
     "data": {
      "image/png": "[encoded data removed]",
      "text/plain": [
       "<Figure size 432x288 with 1 Axes>"
      ]
     },
     "metadata": {
      "needs_background": "light"
     },
     "output_type": "display_data"
    }
   ],
   "source": [
    "neuron_w, neuron_value = train_hidden(x, y, pred, debug=True)\n",
    "\n",
    "plt.imshow(neuron_value.reshape(target1.shape), cmap='hot', interpolation='nearest')\n",
    "plt.show()"
   ]
  },
  {
   "cell_type": "markdown",
   "metadata": {},
   "source": [
    "This shows us pretty nicely where the error currently is biggest (very dark or very bright spots in the first plot) and what the neuron tries to do to correlate with that (second plot).\n",
    "\n",
    "### Combining Hidden & Output Neurons\n",
    "\n",
    "As the last step (of this article) we now train our output layer again, additionally based on the values (`neuron_value`) computed by our newly trained neuron.\n",
    "\n",
    "To do so, we need to include these values as input to the output neurons (`x2`)."
   ]
  },
  {
   "cell_type": "code",
   "execution_count": 99,
   "metadata": {},
   "outputs": [
    {
     "data": {
      "image/png": "[encoded data removed]",
      "text/plain": [
       "<Figure size 432x288 with 1 Axes>"
      ]
     },
     "metadata": {
      "needs_background": "light"
     },
     "output_type": "display_data"
    }
   ],
   "source": [
    "x2 = np.concatenate((x, neuron_value), axis=1)\n",
    "\n",
    "w2, pred2 = train_outputs(x2, y)\n",
    "\n",
    "plt.imshow(pred2.reshape(target1.shape), cmap='hot', interpolation='nearest')\n",
    "plt.show()"
   ]
  },
  {
   "cell_type": "markdown",
   "metadata": {},
   "source": [
    "Pretty!\n",
    "\n",
    "The output neuron can now approximate the shape because it can base its regression on the additional value of the hidden neuron.\n",
    "And since that correlates with the error we got from the earlier optimum, adding it has the effect of reducing the problem the output neuron has to solve by one dimension.\n",
    "\n",
    "### Caveats\n",
    "\n",
    "All the pictures are the result of executing the code snippets, however, what you cannot see is how often they were run until they generated those images.\n",
    "Particularly, training the neuron only converges with a very low probability to the weights that produce the displayed values, i.e. I had to run the algorithm a couple of times until I got that particular output.  \n",
    "This can presumably be attributed in part to the usage of quickprop here, since it relies on some properties of the loss function, like being continuous in its first derivative. As I mentioned above, Fahlman et. al. actually use gradient ascent in [1] to train the hidden neurons.\n",
    "\n",
    "But there are more problems with quickprop that the simple implementation above does not address properly. From Fahlman's paper [2] and another, more recent comparison of quickprop with back-propagation [3] it becomes clear that a) it will need some more adjustments to yield good results more reliably, and b) it doesn't perform equally well on all domains. Specifically, it fails to compete with back-prop on bias and variance in some real-world image classification problems.\n",
    "\n",
    "That said, a comparable network structure (1 hidden, 1 output neuron) trained with standard back-propagation and using the Adam optimizer never even converged to the above result during the test runs (it needed at least another neuron to converge to that), but that could be bad luck since it wasn't a controlled test setup.\n",
    "\n",
    "Another problem of CasCor in general is the thinness of the network vs. its depth.\n",
    "Since computers are very good at linear algebra (through the usage of GPUs), it is faster to run through broader networks that are less deep (i.e. that can better be represented as matrices), as compared to thinner and deeper networks, such as CasCor generates by default.\n",
    "\n",
    "This is of course not so much of a problem with our little example, but it might become a problem when the generated network solves a more complicated task.\n",
    "\n",
    "Which brings us to the next section:\n",
    "\n",
    "### Future Improvements\n",
    "\n",
    "As we have seen, this basic implementation of CasCor in fact works! :)\n",
    "\n",
    "However, we are still missing a lot of boilerplate code that automates the process, and some optimization of the training method, to find a global optimum with higher probability.\n",
    "\n",
    "That is why, in the next parts of this series, we'll see how we can:\n",
    "\n",
    "- Automate the _output -> hidden -> output -> hidden -> ..._ training cycle\n",
    "- Change quickprop to deliver more stable results and to train a set of new nodes instead of only one (and pick the best)\n",
    "- Further improve that process to pick more than one node (i.e. have 'broader' layers)\n",
    "- Change the problem domain to some more interesting/challenging ones (e.g. domains that can only be solved with deeper and/or recurrent networks)\n",
    "- Benchmark it against other machine learning methods in a controlled setting"
   ]
  },
  {
   "cell_type": "markdown",
   "metadata": {},
   "source": [
    "---\n",
    "\n",
    "As mentioned earler, Quickprop deserves a more detailed look all on its own. For this reason, I wrote [a more in-depth article](https://towardsdatascience.com/quickprop-an-alternative-to-back-propagation-d9a78069e2a7) covering the maths behind it, a possible implementation and some improvements.\n",
    "\n",
    "Part 2 of the series is currently in progress and will be linked here when it is published.  \n",
    "All finished notebooks and code of this series are also [available on Github](https://github.com/ephe-meral/cascor).\n",
    "Please feel encouraged to leave feedback and suggest improvements."
   ]
  },
  {
   "cell_type": "markdown",
   "metadata": {},
   "source": [
    "---\n",
    "\n",
    "[1] S. E. Fahlman and C. Lebiere, [The cascade-correlation learning architecture](http://web.cs.iastate.edu/~honavar/fahlman.pdf) (1990), Advances in neural information processing systems (pp. 524–532)\n",
    "\n",
    "[2] S. E. Fahlman, [An empirical study of learning speed in back-propagation networks](http://www.it.uu.se/edu/course/homepage/mil/vt11/handouts/fahlman.quickprop-tr.pdf) (1988), Carnegie Mellon University, Computer Science Department\n",
    "\n",
    "[3] C. A. Brust, S. Sickert, M. Simon, E. Rodner and J. Denzler, [Neither Quick Nor Proper - Evaluation of QuickProp for Learning Deep Neural Networks](https://arxiv.org/pdf/1606.04333.pdf) (2016), arXiv preprint arXiv:1606.04333"
   ]
  },
  {
   "cell_type": "code",
   "execution_count": null,
   "metadata": {},
   "outputs": [],
   "source": []
  }
 ],
 "metadata": {
  "kernelspec": {
   "display_name": "Python 3",
   "language": "python",
   "name": "python3"
  },
  "language_info": {
   "codemirror_mode": {
    "name": "ipython",
    "version": 3
   },
   "file_extension": ".py",
   "mimetype": "text/x-python",
   "name": "python",
   "nbconvert_exporter": "python",
   "pygments_lexer": "ipython3",
   "version": "3.6.10"
  }
 },
 "nbformat": 4,
 "nbformat_minor": 4
}
