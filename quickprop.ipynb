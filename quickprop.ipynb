{
 "cells": [
  {
   "cell_type": "markdown",
   "metadata": {},
   "source": [
    "# Quickprop, an Alternative to Back-Propagation\n",
    "\n",
    "#### Scott Fahlman's idea to speed up gradient descent\n",
    "\n",
    "Due to the slowly converging nature of the vanilla back-propagation algorithms of the 80's/90's, Scott Fahlman invented a learning algorithm dubbed Quickprop [1] that is roughly leaning on [Newton's method](https://en.wikipedia.org/wiki/Newton%27s_method).\n",
    "His simple idea outperformed back-propagation (with various adjustments) on problem domains like the 'N-M-N Encoder' task - i.e. training an de/encoder network with N inputs, M hidden units and N outputs.  \n",
    "One of the problems that Quickprop specifically tackles is the issue of finding a domain-specific optimal learning rate, or rather: an algorithm that adjusts it appropriately dynamically.\n",
    "\n",
    "In in this article, we'll look at the simple mathematical idea behind Quickprop.\n",
    "We'll implement the basic algorithm and some improvements that Fahlman suggests - all in Python and PyTorch.\n",
    "\n",
    "A rough implementation of the algorithm and some background can already be found in [this useful blog post](https://www.bonaccorso.eu/2017/09/15/quickprop-an-almost-forgotten-neural-training-algorithm/) by Giuseppe Bonaccorso. We are going to expand on that - both on the theory and code side - but if in doubt, have a look at how Giuseppe explains it.\n",
    "\n",
    "---\n",
    "\n",
    "_The motivation to look into Quickprop came from writing [my last article](https://towardsdatascience.com/cascade-correlation-a-forgotten-learning-architecture-a2354a0bec92) on the \"Cascade-Correlation Learning Architecture\" [2]. There, I used it to train the neural network's output and hidden neurons, which was a mistake I realized only later and which we'll also look into here._\n",
    "\n",
    "_To follow along with this article, you should be familiar with how neural networks can be trained using back-propagation of the loss gradient (as of 2020, a widely used approach). That is, you should understand how the gradient is usually calculated and applied to the parameters of a network to try to iteratively achieve convergence of the loss to a global minimum._\n",
    "\n",
    "---"
   ]
  },
  {
   "cell_type": "markdown",
   "metadata": {},
   "source": [
    "## Overview\n",
    "\n",
    "We'll start with the mathematics behind Quickprop and then look at how it can be implemented and improved step by step.  \n",
    "To make following along easier, any equations used and inference steps done are explained in more detail than in the original paper."
   ]
  },
  {
   "cell_type": "markdown",
   "metadata": {},
   "source": [
    "## The Mathematics Behind Quickprop\n",
    "\n",
    "The often used learning method of back-propagation for neural networks is based on the idea of iteratively 'riding down' the slop of a function, by taking short steps in the inverse direction of its gradient.\n",
    "\n",
    "These 'short steps' are the crux here. Their length usually depends on a learning rate factor, and that is kept intentionally small to not overshoot a potential minimum.\n",
    "\n",
    "Back in the days when Fahlman developed Quickprop, choosing a good learning rate was something of a major problem. As he actually mentions in his paper, in the best performing algorithm, the scientist chose the learning rate 'by eye' (i.e. manually and based on experience) every step along the way! [1]\n",
    "\n",
    "Faced with this, Fahlman came up with a different idea: Solving a simpler problem.\n",
    "\n",
    "Minimizing the loss function ***L***, especially for deep neural networks, can become extremely difficult analytically (i.e. in a general way on the entire domain).  \n",
    "In back-propagation, for instance, we only calculate it point-wise and then do the small steps in the right direction. If we would know how the 'terrain' of the function looks like in general, we could 'jump' to the minimum directly.\n",
    "\n",
    "But what if we could replace the loss function with a simpler version, of which we know its terrain?\n",
    "This is exactly Fahlmans' assumption taken in Quickprop: He presumes that ***L*** can be approximated by a simple parabola that opens in the positive direction. This way, calculating the minimum (of the parabola) is as simple as finding the intersection of a line with the x-axis.\n",
    "\n",
    "And if that point is not yet a minimum of the loss function, the next parabola can be approximated from there, like in the graphic below.\n",
    "\n",
    "![Animation of Quickprop](./img/quickprop.gif)\n",
    "\n",
    "#### A parabola is fit to the original function and a step is taken towards its minimum. From there, the next parabola is fit and the next step is taken. The two dotted lines are the current and a previous stationary point of the parabola. (Graphic by author)\n",
    "\n",
    "So... How exactly can we approximate ***L***? Easy - using a [Taylor series](https://en.wikipedia.org/wiki/Taylor_series), and a small trick.\n",
    "\n",
    "_Note that for the following equations, we consider the components of the weight vector ***w*** to be trained independently, so ***w*** is meant to be seen as a scalar. But we can still exploit the SIMD architecture of GPU's, using component-wise computations._\n",
    "\n",
    "We start off with the second order Taylor expansion of ***L***, giving us a parabola (without an error term):\n",
    "\n",
    "$$\n",
    "\\begin{align}\n",
    "T(L, w_{n+1}) &= L(w_n) + \\frac{L'(w_n)}{1!} (w_{n+1} - w_n) + \\frac{L''(w_n)}{2!} (w_{n+1} - w_n)^{2}\\\\\n",
    "\\end{align} \n",
    "$$\n",
    "\n",
    "(To understand how this was created, check out the Wikipedia article on Taylor series linked above - it's as simple as inputting ***L*** into the general Taylor formula up to the second term and dropping the rest.)\n",
    "\n",
    "We can now define the update rule for the weights based on a weight difference, and input that into ***T***:\n",
    "\n",
    "$$\n",
    "\\begin{align}\n",
    "&& w_{n+1} &= w_n + \\Delta w_n \\\\\n",
    "\\implies && T(L, w_n + \\Delta w_n) &= L(w_n) + \\frac{L'(w_n)}{1!} (\\Delta w_n) + \\frac{L''(w_n)}{2!} (\\Delta w_n)^{2}\\\\\n",
    "\\end{align} \n",
    "$$\n",
    "\n",
    "Quickprop now further approximates ***L''*** linearly using the difference quotient (this is the small trick mentioned above):\n",
    "\n",
    "$$\n",
    "\\begin{align}\n",
    "L''(w_n) &\\approx \\frac{L'(w_n) - L'(w_{n-1})}{\\Delta w_{n-1}} \\\\\n",
    "\\end{align} \n",
    "$$\n",
    "\n",
    "Using this, we can rewrite the Taylor polynomial to this 'Quickprop' adjusted version and build its gradient:\n",
    "\n",
    "$$\n",
    "\\begin{align}\n",
    "T_Q(L, w_n + \\Delta w_n) &= L(w_n) + L'(w_n) (\\Delta w_n) + 1/2 \\ \\frac{L'(w_n) - L'(w_{n-1})}{\\Delta w_{n-1}} (\\Delta w_n)^{2} \\\\\n",
    "T_Q'(L, w_n + \\Delta w_n) &= L'(w_n) + \\frac{L'(w_n) - L'(w_{n-1})}{\\Delta w_{n-1}} \\Delta w_n \\\\\n",
    "\\end{align} \n",
    "$$\n",
    "\n",
    "And that last equation, finally, can be used to calculate the stationary point of the parabola:\n",
    "\n",
    "$$\n",
    "\\begin{align}\n",
    "&& L'(w_n) + \\frac{L'(w_n) - L'(w_{n-1})}{\\Delta w_{n-1}} \\Delta w_n & = 0 \\\\\n",
    "\\Leftrightarrow && \\frac{L'(w_n) - L'(w_{n-1})}{\\Delta w_{n-1}} \\Delta w_n &= -L'(w_n) \\\\\n",
    "\\Leftrightarrow && \\Delta w_n &= \\Delta w_{n-1} \\frac{-L'(w_n)}{L'(w_n) - L'(w_{n-1})}  \\\\\n",
    "\\Leftrightarrow && \\Delta w_n &= \\Delta w_{n-1} \\frac{L'(w_n)}{L'(w_{n-1}) - L'(w_n)}  \\\\\n",
    "\\end{align} \n",
    "$$\n",
    "\n",
    "**That's it!** Now, to put things together, given a previous weight, a previous weight difference and the loss slope at the previous and current weight, Quickprop calculates the new weight simply by:\n",
    "\n",
    "$$\n",
    "\\begin{align}\n",
    "\\Delta w_n &= \\Delta w_{n-1} \\frac{L'(w_n)}{L'(w_{n-1}) - L'(w_n)}  \\\\\n",
    "w_{n+1} &= w_n + \\Delta w_n \\\\\n",
    "\\end{align} \n",
    "$$"
   ]
  },
  {
   "cell_type": "markdown",
   "metadata": {},
   "source": [
    "## Put It Into Code\n",
    "\n",
    "Before starting with the actual Quickprop implementation, let's import some foundational libraries:"
   ]
  },
  {
   "cell_type": "code",
   "execution_count": null,
   "metadata": {},
   "outputs": [],
   "source": [
    "import numpy as np\n",
    "import torch"
   ]
  },
  {
   "cell_type": "markdown",
   "metadata": {},
   "source": [
    "With the last two lines of the mathematical equation from earlier, we can start with Quickprop! If you read the first article on Cascade-Correlation, you might be already familiar with this - here, we'll concentrate on essential parts of the algorithm first, and put it all together in the end.\n",
    "\n",
    "_Note that we use PyTorch to do the automatic gradient calculation for us. We also assume to have defined an activation and loss function beforehand._"
   ]
  },
  {
   "cell_type": "code",
   "execution_count": null,
   "metadata": {},
   "outputs": [],
   "source": [
    "# Setup torch autograd for weight vector w\n",
    "w_var = torch.autograd.Variable(torch.Tensor(w), requires_grad=True)\n",
    "\n",
    "# Calc predicted values based on input x and loss based on expected output y\n",
    "predicted = activation(torch.mm(x, w_var))\n",
    "L = loss(predicted, y)\n",
    "\n",
    "# Calc differential\n",
    "L.backward()\n",
    "\n",
    "# And, finally, do the weight update\n",
    "dL = w_var.grad.detach() # =: partial(L) / partial(W)\n",
    "dw = dw_prev * dL / (dL_prev - dL)\n",
    "\n",
    "dw_prev = dw.clone()\n",
    "\n",
    "w += learning_rate * dw"
   ]
  },
  {
   "cell_type": "markdown",
   "metadata": {},
   "source": [
    "This is the simplest Quickprop version for one epoch of learning. To actually make use of it, we'll have to run it several times and see if the loss converges (we'll cover that bit later).\n",
    "\n",
    "However, this implementation is flawed in several ways, which we are going to investigate and fix in the following sections:\n",
    "\n",
    "- We didn't actually initialize any of the `..._prev` variables - in the last article I statically initialized them with ones, but that is also not a good idea (see next points)\n",
    "- The weight delta variable might get stuck on zero values, since it is used as a factor in its own update step\n",
    "- The implementation might overshoot or generally fail to converge, if the gradient 'explodes'\n",
    "- It will result in division by zero if the gradient doesn't change in one iteration"
   ]
  },
  {
   "cell_type": "markdown",
   "metadata": {},
   "source": [
    "## Improvement: Init via Gradient Descent\n",
    "\n",
    "The first simple fix we can apply is using gradient descent (with a very small learning rate) to prepare the `dw_prev` and `dL_prev` variables. This will give us a good first glimpse of the loss function terrain, and kick-starts Quickprop in the right direction.\n",
    "\n",
    "Gradient descent is easily implemented using pytorch again - we'll also use the opportunity to refactor the code above a bit as well:"
   ]
  },
  {
   "cell_type": "code",
   "execution_count": null,
   "metadata": {},
   "outputs": [],
   "source": [
    "def calc_gradient(x, y, w, activation, loss):\n",
    "    # Helper to calc loss gradient\n",
    "    w_var = torch.autograd.Variable(torch.Tensor(w), requires_grad=True)\n",
    "    predicted = activation(torch.mm(x, w_var))\n",
    "    L = loss(predicted, y)\n",
    "    L.backward()\n",
    "    dL = w_var.grad.detach()\n",
    "    return L, dL, predicted\n",
    "    \n",
    "def grad_descent_step(x, y, w, activation, loss, learning_rate=1e-5):\n",
    "    # Calculate the gradient as usually\n",
    "    L, dL, predicted = calc_gradient(x, y, w, activation, loss)\n",
    "    \n",
    "    # Then do a simple gradient descent step\n",
    "    dw = -learning_rate * dL\n",
    "    new_w = w + dw\n",
    "    \n",
    "    return new_w, dw, L, dL"
   ]
  },
  {
   "cell_type": "markdown",
   "metadata": {},
   "source": [
    "## Improvement: Conditional Gradient Addition\n",
    "\n",
    "Sometimes, the weight deltas become vanishingly small when using the Quickprop parabola approach. To prevent that from happening when the gradient is not zero, Fahlman recommends conditionally adding the slope to the weight delta.  \n",
    "The idea can be described like this: Go further if you have been moving in that direction anyway, but don't push on if your previous update sent you in the opposite direction (to prevent oscillation).\n",
    "\n",
    "With a little piece of decider code, this can be implemented quite easily:"
   ]
  },
  {
   "cell_type": "code",
   "execution_count": null,
   "metadata": {},
   "outputs": [],
   "source": [
    "# (This code is just to illustrate the process before the real implementation, it won't execute)\n",
    "\n",
    "# We'll receive dw and dw_prev and need to decide whether to apply the update or not.\n",
    "# To not have to include conditional execution (if clauses) we'll want to do it branchless.\n",
    "# This can be achieved by a simple mutliplication rule using the sign function:\n",
    "\n",
    "# Sign gives us either -1, 0 or 1 based on the parameter being less, more or exactly zero\n",
    "# (check the docs for specifics),\n",
    "    np.sign(dw) + np.sign(dw_prev)\n",
    "# With this, we'll have three cases as the outcome of the sum to consider here:\n",
    "# -2, -1, 0, 1, 2\n",
    "# But actually, we're really only interested if this is 0 or not, so we can do:\n",
    "    np.clip(np.abs(np.sign(dw) + np.sign(dw_prev)), a_min=0, a_max=1)\n",
    "# And use that as our deciding factor, which is either 1 or 0 when the dw and dw_prev share the sign or not."
   ]
  },
  {
   "cell_type": "markdown",
   "metadata": {},
   "source": [
    "With this, we can put it all into one small function:"
   ]
  },
  {
   "cell_type": "code",
   "execution_count": null,
   "metadata": {},
   "outputs": [],
   "source": [
    "def cond_add_slope(dw, dw_prev, dL, learning_rate=1.5):\n",
    "    ddw = np.clip(np.abs(np.sign(dw) + np.sign(dw_prev)), a_min=0, a_max=1)\n",
    "    return dw + ddw * (-learning_rate * dL)"
   ]
  },
  {
   "cell_type": "markdown",
   "metadata": {},
   "source": [
    "## Improvement: Maximum Growth Factor\n",
    "\n",
    "As a second step, we'll fix the issue of exploding weight deltas near some function features (e.g. near singularities).  \n",
    "To do that, Fahlman suggests to clip the weight update, if it would be bigger than the last weight update times a maximum grow factor:"
   ]
  },
  {
   "cell_type": "code",
   "execution_count": null,
   "metadata": {},
   "outputs": [],
   "source": [
    "def clip_at_max_growth(dw, dw_prev, max_growth_factor=1.75):\n",
    "    # Get the absolute maximum element-wise growth\n",
    "    max_growth = max_growth_factor * np.abs(dw_prev)\n",
    "    \n",
    "    # And implement this branchless with a min/max clip\n",
    "    return np.clip(dw, a_min=(-max_growth), a_max=max_growth)"
   ]
  },
  {
   "cell_type": "markdown",
   "metadata": {},
   "source": [
    "## Improvement: Prevent Division by Zero\n",
    "\n",
    "On some occasions, the previous and current computed slope can be the same. The result is that we'll try to divide by zero in the weight update rule, and will afterward continue having to work with `NaN`'s, which obviously breaks the training.  \n",
    "The simple fix here is to do a gradient descent step instead.\n",
    "\n",
    "Observe the two update rules:"
   ]
  },
  {
   "cell_type": "code",
   "execution_count": null,
   "metadata": {},
   "outputs": [],
   "source": [
    "# Quickprop\n",
    "dw = dw_prev * dL / (dL_prev - dL)\n",
    "# Gradient descent\n",
    "dw = -learning_rate * dL\n",
    "\n",
    "# We'll get a nicer result if we shuffle the equations a bit:\n",
    "dw = dL * dw_prev / (dL_prev - dL)\n",
    "dw = dL * (-learning_rate)"
   ]
  },
  {
   "cell_type": "markdown",
   "metadata": {},
   "source": [
    "Besides the last factor, they look similar, no?  \n",
    "Which means we can go branchless again (i.e. save us some if-clauses), stay element-wise and pack everything in one formula:"
   ]
  },
  {
   "cell_type": "code",
   "execution_count": null,
   "metadata": {},
   "outputs": [],
   "source": [
    "# (This code is just to illustrate the process before the real implementation, it won't execute)\n",
    "\n",
    "# If (dL_prev - dL) is zero, we want to multiply the learning rate instead,\n",
    "# i.e. we want to switch to gradient descent. We can accomplish it this way:\n",
    "\n",
    "# First, we make sure we only use absolute values (the 'magnitude', but element-wise)\n",
    "    np.abs(dL_prev - dL)\n",
    "# Then we map this value onto either 0 or 1, depending on if it is 0 or not (using the sign function)\n",
    "ddL = np.sign(np.abs(dL_prev - dL))\n",
    "\n",
    "# We can now use this factor to 'decide' between quickprop and gradient descent:\n",
    "quickprop_factor = ddL       * (dw_prev / (dL_prev - dL))\n",
    "grad_desc_factor = (1 - ddL) * (-learning_rate)\n",
    "\n",
    "# Overall we get:\n",
    "dw = dL * (quickprop_factor + grad_desc_factor)"
   ]
  },
  {
   "cell_type": "markdown",
   "metadata": {},
   "source": [
    "The attentive reader probably noted the 'learning rate' factor we used above - a parameter we thought we could get rid of...  \n",
    "Well, actually we sort of did, or at least we did get rid of the problem of having to adjust the learning rate over the course of the training.\n",
    "The Quickprop learning rate can stay fixed throughout the process.\n",
    "It only has to be adjusted once per domain in the beginning.\n",
    "The actual dynamic step sizes are chosen through the parabola jumps, which in turn depend heavily on the current and last calculated slope.\n",
    "\n",
    "If you think this sounds awfully familiar to how back-propagation learning rate optimizers work (think: momentum), you'd be on the right track. In essence, Quickprop achieves something very similar to them - just that it doesn't use back-propagation at its core.\n",
    "\n",
    "Coming back to the code: Since we already implemented gradient descent earlier on, we can build on that and re-use as much as possible:"
   ]
  },
  {
   "cell_type": "code",
   "execution_count": null,
   "metadata": {},
   "outputs": [],
   "source": [
    "def quickprop_step(x, y, w, dw_prev, dL_prev,\n",
    "                   activation, loss,\n",
    "                   qp_learning_rate=1.5,\n",
    "                   gd_learning_rate=1e-5):\n",
    "    # Calculate the gradient as usually\n",
    "    L, dL, predicted = calc_gradient(x, y, w, activation, loss)\n",
    "    \n",
    "    # Calculate a 'decider' bit between quickprop and gradient descent\n",
    "    ddL = np.ceil(np.clip(np.abs(dL_prev - dL), a_min=0, a_max=1) / 2)\n",
    "    \n",
    "    quickprop_factor = ddL       * (dw_prev / (dL_prev - dL))\n",
    "    grad_desc_factor = (1 - ddL) * (-gd_learning_rate)\n",
    "\n",
    "    dw = dL * (quickprop_factor + grad_desc_factor)\n",
    "    \n",
    "    # Use the conditional slope addition\n",
    "    dw = cond_add_slope(dw, dw_prev, dL, qp_learning_rate)\n",
    "    \n",
    "    # Use the max growth factor\n",
    "    dw = clip_at_max_growth(dw, dw_prev)\n",
    "\n",
    "    new_w = w + dw\n",
    "    \n",
    "    return new_w, dw, L, dL, predicted"
   ]
  },
  {
   "cell_type": "markdown",
   "metadata": {},
   "source": [
    "## Putting It All Together\n",
    "\n",
    "With all of these functions in place, we can put it all together.\n",
    "The bit of boilerplate code still necessary just does the initialization and checks for convergence of the mean loss per epoch."
   ]
  },
  {
   "cell_type": "code",
   "execution_count": null,
   "metadata": {},
   "outputs": [],
   "source": [
    "# Param shapes: x_: (n,i), y_: (n,o), weights: (i,o)\n",
    "#   Where n is the size of the whole sample set, i is the input count, o is the output count\n",
    "#   We expect x_ to already include the bias\n",
    "# Returns: trained weights, last prediction, last iteration, last loss\n",
    "# NB: Differentiation is done via torch\n",
    "def quickprop(x_, y_, weights,\n",
    "              activation=torch.nn.Sigmoid(),\n",
    "              loss=torch.nn.MSELoss(),\n",
    "              learning_rate=1e-4,\n",
    "              tolerance=1e-6,\n",
    "              patience=20000,\n",
    "              debug=False):\n",
    "    # Box params as torch datatypes\n",
    "    x = torch.Tensor(x_)\n",
    "    y = torch.Tensor(y_)\n",
    "    w = torch.Tensor(weights)\n",
    "\n",
    "    # Keep track of mean residual error values (used to test for convergence)\n",
    "    L_mean = 1\n",
    "    L_mean_prev = 1\n",
    "    L_mean_diff = 1\n",
    "    \n",
    "    # Keep track of loss and weight gradients\n",
    "    dL = torch.zeros(w.shape)\n",
    "    dL_prev = torch.ones(w.shape)\n",
    "    dw_prev = torch.ones(w.shape)\n",
    "    \n",
    "    # Initialize the algorithm with a GD step\n",
    "    w, dw_prev, L, dL_prev = grad_descent_step(x, y, w, activation, loss)\n",
    "\n",
    "    i = 0\n",
    "    predicted = []\n",
    "\n",
    "    # This algorithm expects the mean losses to converge or the patience to run out...\n",
    "    while L_mean_diff > tolerance and i < patience:\n",
    "        # Prep iteration\n",
    "        i += 1\n",
    "        dL_prev = dL.clone()\n",
    "        \n",
    "        w, dw, L, dL, predicted = quickprop_step(x, y, w, dw_prev, dL_prev, activation, loss, qp_learning_rate=learning_rate)\n",
    "        \n",
    "        dw_prev = dw.clone()\n",
    "        \n",
    "        # Keep track of losses and use as convergence criterion if mean doesn't change much     \n",
    "        L_mean = L_mean + (1/(i+1))*(L.detach().numpy() - L_mean)\n",
    "        L_mean_diff = np.abs(L_mean_prev - L_mean)\n",
    "        L_mean_prev = L_mean\n",
    "        \n",
    "        if debug and i % 100 == 99:\n",
    "            print(\"Residual           \", L.detach().numpy())\n",
    "            print(\"Residual mean      \", L_mean)\n",
    "            print(\"Residual mean diff \", L_mean_diff)\n",
    "        \n",
    "    return w.detach().numpy(), predicted.detach().numpy(), i, L.detach().numpy()"
   ]
  },
  {
   "cell_type": "markdown",
   "metadata": {},
   "source": [
    "## Caveats\n",
    "\n",
    "Quickprop has one major caveat that greatly reduces its usefulness: The mathematical 'trick' we used, i.e. the approximation of the second order derivative of the loss function with a simple difference quotient relies on the assumption that this second order derivative is a continuous function.  \n",
    "This is not given for activation functions like e.g. the rectified linear unit, or ReLU for short. The second-order derivative is discontinuous and the behaviour of the algorithm might become unreliable (e.g. it might diverge).\n",
    "\n",
    "Looking back at [my earlier article](https://towardsdatascience.com/cascade-correlation-a-forgotten-learning-architecture-a2354a0bec92) covering the implementation of Cascade-Correlation, we trained the hidden units of the network using Quickprop and used the covariance function as a way to estimate loss in that process.\n",
    "However, the covariance (as implemented there) is wrapped in an absolute value function.\n",
    "I.e. its second-order derivative is discontinuous and therefore, Quickprop should not be used.\n",
    "The careful reader of Fahlman et al.'s Cascade-Correlation paper [2] may have also noticed that they are actually using gradient ascent to calculate this maximum covariance.\n",
    "\n",
    "Apart from that, it also seems that Quickprop delivers better results on some domains rather than others. An interesting summary by Brust et al. showed that it achieved better training results compared to the quality of back-propagation based techniques on some simple image classification tasks (classifying basic shapes) while at the same time doing worse on more realistic image classification tasks [3].  \n",
    "I haven't done any research in that direction, but I wonder if this could imply that Quickprop might work better on less fuzzy and more structured data (think data frames/tables used in a business context). That would surely be interesting to investigate.\n",
    "\n",
    "## Summary\n",
    "\n",
    "This article covered Scott Fahlman's idea of improving back-propagation. We had a look at the mathematical foundations and a possible implementation.\n",
    "\n",
    "Now go about and try it out for your own projects - I'd love to see what Quickprop can used for!\n",
    "\n",
    "---\n",
    "\n",
    "If you would like to see variants of Quickprop in action, check out [my series of articles](https://towardsdatascience.com/cascade-correlation-a-forgotten-learning-architecture-a2354a0bec92) on the Cascade-Correlation Learning Architecture.\n",
    "\n",
    "All finished notebooks and code of this series are also [available on Github](https://github.com/ephe-meral/cascor). Please feel encouraged to leave feedback and suggest improvements."
   ]
  },
  {
   "cell_type": "markdown",
   "metadata": {},
   "source": [
    "---\n",
    "\n",
    "[1] S. E. Fahlman, [An empirical study of learning speed in back-propagation networks](http://www.it.uu.se/edu/course/homepage/mil/vt11/handouts/fahlman.quickprop-tr.pdf) (1988), Carnegie Mellon University, Computer Science Department\n",
    "\n",
    "[2] S. E. Fahlman and C. Lebiere, [The cascade-correlation learning architecture](http://web.cs.iastate.edu/~honavar/fahlman.pdf) (1990), Advances in neural information processing systems (pp. 524–532)\n",
    "\n",
    "[3] C. A. Brust, S. Sickert, M. Simon, E. Rodner and J. Denzler, [Neither Quick Nor Proper - Evaluation of QuickProp for Learning Deep Neural Networks](https://arxiv.org/pdf/1606.04333.pdf) (2016), arXiv preprint arXiv:1606.04333"
   ]
  }
 ],
 "metadata": {
  "kernelspec": {
   "display_name": "Python 3",
   "language": "python",
   "name": "python3"
  },
  "language_info": {
   "codemirror_mode": {
    "name": "ipython",
    "version": 3
   },
   "file_extension": ".py",
   "mimetype": "text/x-python",
   "name": "python",
   "nbconvert_exporter": "python",
   "pygments_lexer": "ipython3",
   "version": "3.6.10"
  }
 },
 "nbformat": 4,
 "nbformat_minor": 4
}
